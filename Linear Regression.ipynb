{
 "cells": [
  {
   "cell_type": "markdown",
   "metadata": {},
   "source": [
    "# Linear Regression\n",
    "\n",
    "##### Made by Polinka"
   ]
  },
  {
   "cell_type": "code",
   "execution_count": 2,
   "metadata": {},
   "outputs": [],
   "source": [
    "import array\n",
    "\n",
    "ALL_N = 180\n",
    "LEARN_N = ALL_N * 70 // 100\n",
    "\n",
    "a = array.array(\"d\", (10 * i for i in range(LEARN_N)))\n",
    "b = array.array(\"d\", (7 * a[i] for i in range(LEARN_N)))\n",
    "\n",
    "EPS = 0.0000001\n",
    "\n",
    "def err1(w0, w1, x,y):\n",
    "    l = len(x)\n",
    "    q = 0\n",
    "    for i in range(l):\n",
    "        q += (w0 * x[i] + w1 - y[i]) * x[i]\n",
    "    q = q * 2 / l\n",
    "    return q\n",
    "\n",
    "def err2(w0, w1, x, y):\n",
    "    l = len(x)\n",
    "    q = 0\n",
    "    for i in range(l):\n",
    "        q += (w0 * x[i] + w1 - y[i])\n",
    "    q = q * 2 / l\n",
    "    return q\n",
    "\n",
    "w0 = 1\n",
    "w1 = 1\n",
    "w0_new = 0\n",
    "w1_new = 0\n",
    "\n",
    "k = 0\n",
    "step0 = 0.000045\n",
    "\n",
    "while ((w0_new - w0) ** 2 + (w1_new - w1) ** 2) >= EPS * EPS:\n",
    "    w0 = w0_new\n",
    "    w1 = w1_new\n",
    "\n",
    "    k += 1\n",
    "    step = step0 / k\n",
    "    w0_new = w0 - step * err1(w0, w1, a, b)\n",
    "    w1_new = w1 - step * err2(w0, w1, a, b)"
   ]
  },
  {
   "cell_type": "code",
   "execution_count": 4,
   "metadata": {},
   "outputs": [
    {
     "name": "stdout",
     "output_type": "stream",
     "text": [
      "6.999990066064729 0.008347276014517346\n"
     ]
    }
   ],
   "source": [
    "print(w0, w1)"
   ]
  },
  {
   "cell_type": "code",
   "execution_count": 19,
   "metadata": {},
   "outputs": [
    {
     "data": {
      "image/png": "[encoded data removed]",
      "text/plain": [
       "<Figure size 432x288 with 1 Axes>"
      ]
     },
     "metadata": {},
     "output_type": "display_data"
    }
   ],
   "source": [
    "x = array.array(\"d\", (i for i in range(ALL_N)))\n",
    "y = array.array(\"d\", (w0 * x[i] + w1 for i in range(ALL_N)))\n",
    "import matplotlib.pyplot as plt\n",
    "import numpy as np \n",
    "\n",
    "y_true = np.arange(0.0, ALL_N, 1) * 7\n",
    "plt.plot(y)\n",
    "plt.plot(y_true, 'r--')\n",
    "plt.show()"
   ]
  },
  {
   "cell_type": "markdown",
   "metadata": {},
   "source": [
    "Построили функцию у = w0 * x + w1 (синяя прямая)\n",
    "\n",
    "И нарисовали правильную функцию y = 7 * x\n",
    "\n",
    "Они совпали - мы молодцы!"
   ]
  }
 ],
 "metadata": {
  "kernelspec": {
   "display_name": "Python 3",
   "language": "python",
   "name": "python3"
  },
  "language_info": {
   "codemirror_mode": {
    "name": "ipython",
    "version": 3
   },
   "file_extension": ".py",
   "mimetype": "text/x-python",
   "name": "python",
   "nbconvert_exporter": "python",
   "pygments_lexer": "ipython3",
   "version": "3.6.5"
  }
 },
 "nbformat": 4,
 "nbformat_minor": 2
}
